{
 "cells": [
  {
   "cell_type": "code",
   "execution_count": 14,
   "metadata": {},
   "outputs": [
    {
     "data": {
      "text/plain": [
       "array([[19.50870882, 10.        ],\n",
       "       [10.04094139, 10.95195981],\n",
       "       [10.        , 17.86969316],\n",
       "       [20.        , 20.        ]])"
      ]
     },
     "execution_count": 14,
     "metadata": {},
     "output_type": "execute_result"
    }
   ],
   "source": [
    "# 2 col, scale between 10,20\n",
    "import pandas as pd\n",
    "\n",
    "df = pd.DataFrame({\n",
    "    \"Col1\": [23245435,2432546,2342545,24325435],\n",
    "    \"Col2\":[452334, 4554646, 34365464, 43545666]\n",
    "})\n",
    "from sklearn.preprocessing import MinMaxScaler\n",
    "\n",
    "mms = MinMaxScaler(feature_range=(10,20))\n",
    "\n",
    "df =mms.fit_transform(df)\n",
    "df"
   ]
  },
  {
   "cell_type": "code",
   "execution_count": 25,
   "metadata": {},
   "outputs": [
    {
     "name": "stdout",
     "output_type": "stream",
     "text": [
      "[[29.01741764 10.        ]\n",
      " [10.08188277 11.90391961]\n",
      " [10.         25.73938632]\n",
      " [30.         30.        ]]\n"
     ]
    }
   ],
   "source": [
    "# HARD CODING METHOD \n",
    "# scaled=df.apply(lambda x: (x-x.mean())/ x.std(), axis=0)\n",
    "scaled = (df-df.min())/(df.max()-df.min())\n",
    "df_ranged = scaled * 20 + 10\n",
    "print(df_ranged)"
   ]
  },
  {
   "cell_type": "code",
   "execution_count": null,
   "metadata": {},
   "outputs": [],
   "source": []
  },
  {
   "cell_type": "code",
   "execution_count": null,
   "metadata": {},
   "outputs": [],
   "source": []
  }
 ],
 "metadata": {
  "kernelspec": {
   "display_name": "Python 3.9.12 ('base')",
   "language": "python",
   "name": "python3"
  },
  "language_info": {
   "codemirror_mode": {
    "name": "ipython",
    "version": 3
   },
   "file_extension": ".py",
   "mimetype": "text/x-python",
   "name": "python",
   "nbconvert_exporter": "python",
   "pygments_lexer": "ipython3",
   "version": "3.9.12"
  },
  "orig_nbformat": 4,
  "vscode": {
   "interpreter": {
    "hash": "5cb6ecfa424a6caeb83bcba026bad4cbe26f591f8c36f8671a14c24a781bc889"
   }
  }
 },
 "nbformat": 4,
 "nbformat_minor": 2
}
