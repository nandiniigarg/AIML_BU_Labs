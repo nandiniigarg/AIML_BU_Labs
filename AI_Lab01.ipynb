{
  "cells": [
    {
      "cell_type": "markdown",
      "source": [
        "# Nandini Garg\n",
        "# E20CSE487\n",
        "# EB32"
      ],
      "metadata": {
        "id": "xYIQJCTdT_UE"
      }
    },
    {
      "cell_type": "markdown",
      "source": [
        "PART A"
      ],
      "metadata": {
        "id": "Iast85bfUNKr"
      }
    },
    {
      "cell_type": "code",
      "execution_count": 1,
      "metadata": {
        "id": "f9-jeqO1smuJ",
        "colab": {
          "base_uri": "https://localhost:8080/"
        },
        "outputId": "3d793fc3-dc91-4512-dbf3-12e2adb00e03"
      },
      "outputs": [
        {
          "output_type": "stream",
          "name": "stdout",
          "text": [
            "1.21.6\n"
          ]
        }
      ],
      "source": [
        "import numpy as np\n",
        "import sys\n",
        "print(np.__version__)"
      ]
    },
    {
      "cell_type": "code",
      "execution_count": 2,
      "metadata": {
        "id": "1H5PlEUax91P",
        "colab": {
          "base_uri": "https://localhost:8080/"
        },
        "outputId": "c2305800-8ada-44d4-82ec-ced317b5e2fb"
      },
      "outputs": [
        {
          "output_type": "stream",
          "name": "stdout",
          "text": [
            "[[3 1 3 4 4]\n",
            " [0 3 0 3 2]\n",
            " [4 2 0 2 3]\n",
            " [4 3 4 3 3]\n",
            " [3 0 4 2 1]]\n",
            "(5, 5)\n",
            "<class 'numpy.ndarray'>\n",
            "[[2 2 4 2 4]]\n",
            "(1, 5)\n",
            "<class 'numpy.ndarray'>\n"
          ]
        }
      ],
      "source": [
        "arr = np.random.randint(5, size=(1,5))\n",
        "new_array = np.random.randint(5, size=(5,5))\n",
        "print(new_array)\n",
        "print(new_array.shape)\n",
        "print(type(new_array))\n",
        "print(arr)\n",
        "print(arr.shape)\n",
        "print(type(arr))"
      ]
    },
    {
      "cell_type": "code",
      "execution_count": 3,
      "metadata": {
        "colab": {
          "base_uri": "https://localhost:8080/"
        },
        "id": "GuewmBd2yFuR",
        "outputId": "acaf01ab-c858-44a9-91f3-71590324dac7",
        "scrolled": false
      },
      "outputs": [
        {
          "output_type": "stream",
          "name": "stdout",
          "text": [
            "[4 5 6 3 9 7]\n",
            "[6 3 9]\n"
          ]
        }
      ],
      "source": [
        "N = np.array([4, 5, 6, 3, 9, 7])\n",
        "print(N)\n",
        "print(N[2:5])"
      ]
    },
    {
      "cell_type": "code",
      "execution_count": 4,
      "metadata": {
        "colab": {
          "base_uri": "https://localhost:8080/"
        },
        "id": "pFlqHCNOPXns",
        "outputId": "98b600a7-2ce7-4d32-b409-9198925372db"
      },
      "outputs": [
        {
          "output_type": "stream",
          "name": "stdout",
          "text": [
            "[1 2]\n"
          ]
        }
      ],
      "source": [
        "array2d = np.array([[1, 2, 3],\n",
        "                    [4, 5, 6]])\n",
        "print(array2d[0,0:2])"
      ]
    },
    {
      "cell_type": "code",
      "execution_count": 5,
      "metadata": {
        "colab": {
          "base_uri": "https://localhost:8080/"
        },
        "id": "zYPGXpYQPXnt",
        "outputId": "bbd02638-225d-4596-8e5d-307597127788"
      },
      "outputs": [
        {
          "output_type": "stream",
          "name": "stdout",
          "text": [
            "[4 5 6 7 3 4 1]\n"
          ]
        }
      ],
      "source": [
        "arr1 = np.array( [4,5,6,7])\n",
        "arr2 = np.array( [3,4,1])\n",
        "fin = np.concatenate((arr1,arr2),axis = 0)\n",
        "print(fin)"
      ]
    },
    {
      "cell_type": "code",
      "execution_count": 6,
      "metadata": {
        "colab": {
          "base_uri": "https://localhost:8080/"
        },
        "id": "nR5Ywi3HPXnt",
        "outputId": "4d14a126-6bf5-4c46-d685-17044c9a4045"
      },
      "outputs": [
        {
          "output_type": "stream",
          "name": "stdout",
          "text": [
            "First:  [[1 2 3]\n",
            " [4 5 6]]\n",
            "Second:  [[ 7  8  9]\n",
            " [10 11 12]]\n",
            "result\n",
            "[[ 1  2  3]\n",
            " [ 4  5  6]\n",
            " [ 7  8  9]\n",
            " [10 11 12]]\n"
          ]
        }
      ],
      "source": [
        "arr1 = np.array([[1,2,3],[4,5,6]])\n",
        "print(\"First: \",arr1)\n",
        "arr2 = np.array([[7,8,9],[10,11,12]])\n",
        "print(\"Second: \",arr2)\n",
        "print(\"result\")\n",
        "print(np.concatenate((arr1,arr2)))\n"
      ]
    },
    {
      "cell_type": "code",
      "execution_count": 7,
      "metadata": {
        "colab": {
          "base_uri": "https://localhost:8080/"
        },
        "id": "q3-qL4VVPXnt",
        "outputId": "17aa7d1a-b34b-4e8e-a0bb-b09e6dab76d9"
      },
      "outputs": [
        {
          "output_type": "stream",
          "name": "stdout",
          "text": [
            "[4 5 6 3 9 8]\n",
            "[array([4, 5]), array([6]), array([3, 9, 8])]\n",
            "\n",
            "[array([[ 1,  2],\n",
            "       [ 4,  5],\n",
            "       [ 7,  8],\n",
            "       [10, 11]]), array([[ 3],\n",
            "       [ 6],\n",
            "       [ 9],\n",
            "       [12]]), array([], shape=(4, 0), dtype=int64)]\n"
          ]
        }
      ],
      "source": [
        "sArr = np.array([4, 5, 6, 3, 9,8])\n",
        "print(sArr)\n",
        "print(np.split(sArr,[2,3]))\n",
        "print()\n",
        "array2d =  np.array([[ 1, 2, 3],[ 4, 5, 6],[ 7, 8, 9],[10, 11, 12]])\n",
        "\n",
        "print(np.hsplit(array2d,[2,3]))"
      ]
    },
    {
      "cell_type": "code",
      "execution_count": 8,
      "metadata": {
        "colab": {
          "base_uri": "https://localhost:8080/"
        },
        "id": "HBb7K-eFPXnu",
        "outputId": "c7a38837-8590-4d36-e738-34272255a5bb"
      },
      "outputs": [
        {
          "output_type": "stream",
          "name": "stdout",
          "text": [
            "(array([3, 5, 6]),)\n",
            "(array([1]), array([1]))\n"
          ]
        }
      ],
      "source": [
        "ar = np.array([1, 2, 3, 4, 5, 4, 4])\n",
        "print(np.where(ar == 4))\n",
        "\n",
        "ar2d = np.array([[ 1, 2, 3],[ 4, 5, 6],[ 7, 8, 9],[10, 11, 12]])\n",
        "print(np.where(ar2d == 5))"
      ]
    },
    {
      "cell_type": "code",
      "execution_count": 9,
      "metadata": {
        "colab": {
          "base_uri": "https://localhost:8080/"
        },
        "id": "vvg0FQr4PXnu",
        "outputId": "1eac99b4-b585-498f-e964-229e5d963f5d"
      },
      "outputs": [
        {
          "output_type": "stream",
          "name": "stdout",
          "text": [
            "Even: (array([0, 2, 4, 6]),) Odd: (array([1, 3, 5, 7]),)\n"
          ]
        }
      ],
      "source": [
        "b = np.array([1, 2, 3, 4, 5, 6, 7, 8])\n",
        "odd = np.where(b%2==0)\n",
        "even = np.where(b%2==1)\n",
        "print(\"Even:\",even,\"Odd:\", odd)"
      ]
    },
    {
      "cell_type": "code",
      "execution_count": 10,
      "metadata": {
        "colab": {
          "base_uri": "https://localhost:8080/"
        },
        "id": "gYvx1JO1PXnv",
        "outputId": "3d8bf38a-08bd-4621-e766-fead94814033"
      },
      "outputs": [
        {
          "output_type": "stream",
          "name": "stdout",
          "text": [
            "ascending order [ 1  2  5  6  7  9 10 36]\n",
            "descending order [36 10  9  7  6  5  2  1]\n",
            "ascending order [[ 3  5  7]\n",
            " [ 6  8 10]\n",
            " [-2  7 40]]\n",
            "descending order [[-2  7 40]\n",
            " [ 6  8 10]\n",
            " [ 3  5  7]]\n"
          ]
        }
      ],
      "source": [
        "ar1d = np.array([6, 5, 1, 2, 9, 10, 36, 7])\n",
        "print('ascending order', np.sort(ar1d))\n",
        "print('descending order', np.sort(ar1d)[::-1])\n",
        "\n",
        "ar2d = np.array([[5, 3, 7], [8, 10, 6], [40, -2, 7]])\n",
        "print('ascending order', np.sort(ar2d))\n",
        "print('descending order', np.sort(ar2d)[::-1])"
      ]
    },
    {
      "cell_type": "code",
      "execution_count": 11,
      "metadata": {
        "colab": {
          "base_uri": "https://localhost:8080/"
        },
        "id": "q9pe-g38PXnv",
        "outputId": "91374e05-4537-4b63-dbb0-6a6a18b55eac"
      },
      "outputs": [
        {
          "output_type": "stream",
          "name": "stdout",
          "text": [
            "[ 7 14 18  6 13  4]\n",
            "[0.06842311 0.38231606 0.33717967 0.88656052 0.88888486]\n",
            "[[ 7 40 13 25 39]\n",
            " [16 19 33 19 19]\n",
            " [10 31 18 37 11]]\n",
            "[[0.53456904 0.40026681 0.77812573 0.24190473 0.23280121]\n",
            " [0.95851271 0.73103993 0.9775832  0.8819516  0.33375303]\n",
            " [0.06332715 0.04197915 0.68940916 0.1135188  0.93875764]]\n"
          ]
        }
      ],
      "source": [
        "import random\n",
        "ran = np.random.randint(21 , size = (6))\n",
        "print(ran)\n",
        "ranF = np.random.rand(5) \n",
        "print(ranF)\n",
        "\n",
        "ran2d = np.random.randint(50, size = (3,5))\n",
        "print(ran2d)\n",
        "\n",
        "random2d = np.random.rand(3,5)\n",
        "print(random2d)"
      ]
    },
    {
      "cell_type": "code",
      "execution_count": 12,
      "metadata": {
        "colab": {
          "base_uri": "https://localhost:8080/"
        },
        "id": "zSvBKmIFPXnw",
        "outputId": "9dda26f0-329e-49cb-d6b8-afa5c34e050c"
      },
      "outputs": [
        {
          "output_type": "stream",
          "name": "stdout",
          "text": [
            "[[10 11 12]\n",
            " [ 7  8  9]\n",
            " [ 4  5  6]\n",
            " [ 1  2  3]]\n"
          ]
        }
      ],
      "source": [
        "A = np.array([[ 1, 2, 3],[ 4, 5, 6],[ 7, 8, 9],[10, 11, 12]])\n",
        "np.random.shuffle(A)\n",
        "print(A)"
      ]
    },
    {
      "cell_type": "code",
      "execution_count": 13,
      "metadata": {
        "id": "1Rm009X-PXnw"
      },
      "outputs": [],
      "source": [
        ""
      ]
    },
    {
      "cell_type": "markdown",
      "source": [
        "\n",
        "Part B"
      ],
      "metadata": {
        "id": "KE_t2R9PUSL4"
      }
    },
    {
      "cell_type": "code",
      "execution_count": 14,
      "metadata": {
        "id": "Xr7xwL-NPXnw"
      },
      "outputs": [],
      "source": [
        "import pandas as pd\n",
        "from scipy import stats as st\n",
        "import matplotlib.pyplot as plt"
      ]
    },
    {
      "cell_type": "code",
      "execution_count": 22,
      "metadata": {
        "colab": {
          "base_uri": "https://localhost:8080/",
          "height": 322
        },
        "id": "sAJHPd0oPXnw",
        "outputId": "48080669-dd94-4275-ffdc-290e61417347"
      },
      "outputs": [
        {
          "output_type": "execute_result",
          "data": {
            "text/plain": [
              "                                                         fixed acidity;\"volatile acidity\";\"citric acid\";\"residual sugar\";\"chlorides\";\"free sulfur dioxide\";\"total sulfur dioxide\";\"density\";\"pH\";\"sulphates\";\"alcohol\";\"quality\"\n",
              "7.4  0.70 0.00 1.9 0.076 11.0 34.0 0.9978 3.51 0.56 9.4                                                  5                                                                                                                      \n",
              "7.8  0.88 0.00 2.6 0.098 25.0 67.0 0.9968 3.20 0.68 9.8                                                  5                                                                                                                      \n",
              "     0.76 0.04 2.3 0.092 15.0 54.0 0.9970 3.26 0.65 9.8                                                  5                                                                                                                      \n",
              "11.2 0.28 0.56 1.9 0.075 17.0 60.0 0.9980 3.16 0.58 9.8                                                  6                                                                                                                      \n",
              "7.4  0.70 0.00 1.9 0.076 11.0 34.0 0.9978 3.51 0.56 9.4                                                  5                                                                                                                      "
            ],
            "text/html": [
              "\n",
              "  <div id=\"df-33c924ca-8b31-4245-b227-168ed6264692\">\n",
              "    <div class=\"colab-df-container\">\n",
              "      <div>\n",
              "<style scoped>\n",
              "    .dataframe tbody tr th:only-of-type {\n",
              "        vertical-align: middle;\n",
              "    }\n",
              "\n",
              "    .dataframe tbody tr th {\n",
              "        vertical-align: top;\n",
              "    }\n",
              "\n",
              "    .dataframe thead th {\n",
              "        text-align: right;\n",
              "    }\n",
              "</style>\n",
              "<table border=\"1\" class=\"dataframe\">\n",
              "  <thead>\n",
              "    <tr style=\"text-align: right;\">\n",
              "      <th></th>\n",
              "      <th></th>\n",
              "      <th></th>\n",
              "      <th></th>\n",
              "      <th></th>\n",
              "      <th></th>\n",
              "      <th></th>\n",
              "      <th></th>\n",
              "      <th></th>\n",
              "      <th></th>\n",
              "      <th></th>\n",
              "      <th>fixed acidity;\"volatile acidity\";\"citric acid\";\"residual sugar\";\"chlorides\";\"free sulfur dioxide\";\"total sulfur dioxide\";\"density\";\"pH\";\"sulphates\";\"alcohol\";\"quality\"</th>\n",
              "    </tr>\n",
              "  </thead>\n",
              "  <tbody>\n",
              "    <tr>\n",
              "      <th>7.4</th>\n",
              "      <th>0.70</th>\n",
              "      <th>0.00</th>\n",
              "      <th>1.9</th>\n",
              "      <th>0.076</th>\n",
              "      <th>11.0</th>\n",
              "      <th>34.0</th>\n",
              "      <th>0.9978</th>\n",
              "      <th>3.51</th>\n",
              "      <th>0.56</th>\n",
              "      <th>9.4</th>\n",
              "      <td>5</td>\n",
              "    </tr>\n",
              "    <tr>\n",
              "      <th rowspan=\"2\" valign=\"top\">7.8</th>\n",
              "      <th>0.88</th>\n",
              "      <th>0.00</th>\n",
              "      <th>2.6</th>\n",
              "      <th>0.098</th>\n",
              "      <th>25.0</th>\n",
              "      <th>67.0</th>\n",
              "      <th>0.9968</th>\n",
              "      <th>3.20</th>\n",
              "      <th>0.68</th>\n",
              "      <th>9.8</th>\n",
              "      <td>5</td>\n",
              "    </tr>\n",
              "    <tr>\n",
              "      <th>0.76</th>\n",
              "      <th>0.04</th>\n",
              "      <th>2.3</th>\n",
              "      <th>0.092</th>\n",
              "      <th>15.0</th>\n",
              "      <th>54.0</th>\n",
              "      <th>0.9970</th>\n",
              "      <th>3.26</th>\n",
              "      <th>0.65</th>\n",
              "      <th>9.8</th>\n",
              "      <td>5</td>\n",
              "    </tr>\n",
              "    <tr>\n",
              "      <th>11.2</th>\n",
              "      <th>0.28</th>\n",
              "      <th>0.56</th>\n",
              "      <th>1.9</th>\n",
              "      <th>0.075</th>\n",
              "      <th>17.0</th>\n",
              "      <th>60.0</th>\n",
              "      <th>0.9980</th>\n",
              "      <th>3.16</th>\n",
              "      <th>0.58</th>\n",
              "      <th>9.8</th>\n",
              "      <td>6</td>\n",
              "    </tr>\n",
              "    <tr>\n",
              "      <th>7.4</th>\n",
              "      <th>0.70</th>\n",
              "      <th>0.00</th>\n",
              "      <th>1.9</th>\n",
              "      <th>0.076</th>\n",
              "      <th>11.0</th>\n",
              "      <th>34.0</th>\n",
              "      <th>0.9978</th>\n",
              "      <th>3.51</th>\n",
              "      <th>0.56</th>\n",
              "      <th>9.4</th>\n",
              "      <td>5</td>\n",
              "    </tr>\n",
              "  </tbody>\n",
              "</table>\n",
              "</div>\n",
              "      <button class=\"colab-df-convert\" onclick=\"convertToInteractive('df-33c924ca-8b31-4245-b227-168ed6264692')\"\n",
              "              title=\"Convert this dataframe to an interactive table.\"\n",
              "              style=\"display:none;\">\n",
              "        \n",
              "  <svg xmlns=\"http://www.w3.org/2000/svg\" height=\"24px\"viewBox=\"0 0 24 24\"\n",
              "       width=\"24px\">\n",
              "    <path d=\"M0 0h24v24H0V0z\" fill=\"none\"/>\n",
              "    <path d=\"M18.56 5.44l.94 2.06.94-2.06 2.06-.94-2.06-.94-.94-2.06-.94 2.06-2.06.94zm-11 1L8.5 8.5l.94-2.06 2.06-.94-2.06-.94L8.5 2.5l-.94 2.06-2.06.94zm10 10l.94 2.06.94-2.06 2.06-.94-2.06-.94-.94-2.06-.94 2.06-2.06.94z\"/><path d=\"M17.41 7.96l-1.37-1.37c-.4-.4-.92-.59-1.43-.59-.52 0-1.04.2-1.43.59L10.3 9.45l-7.72 7.72c-.78.78-.78 2.05 0 2.83L4 21.41c.39.39.9.59 1.41.59.51 0 1.02-.2 1.41-.59l7.78-7.78 2.81-2.81c.8-.78.8-2.07 0-2.86zM5.41 20L4 18.59l7.72-7.72 1.47 1.35L5.41 20z\"/>\n",
              "  </svg>\n",
              "      </button>\n",
              "      \n",
              "  <style>\n",
              "    .colab-df-container {\n",
              "      display:flex;\n",
              "      flex-wrap:wrap;\n",
              "      gap: 12px;\n",
              "    }\n",
              "\n",
              "    .colab-df-convert {\n",
              "      background-color: #E8F0FE;\n",
              "      border: none;\n",
              "      border-radius: 50%;\n",
              "      cursor: pointer;\n",
              "      display: none;\n",
              "      fill: #1967D2;\n",
              "      height: 32px;\n",
              "      padding: 0 0 0 0;\n",
              "      width: 32px;\n",
              "    }\n",
              "\n",
              "    .colab-df-convert:hover {\n",
              "      background-color: #E2EBFA;\n",
              "      box-shadow: 0px 1px 2px rgba(60, 64, 67, 0.3), 0px 1px 3px 1px rgba(60, 64, 67, 0.15);\n",
              "      fill: #174EA6;\n",
              "    }\n",
              "\n",
              "    [theme=dark] .colab-df-convert {\n",
              "      background-color: #3B4455;\n",
              "      fill: #D2E3FC;\n",
              "    }\n",
              "\n",
              "    [theme=dark] .colab-df-convert:hover {\n",
              "      background-color: #434B5C;\n",
              "      box-shadow: 0px 1px 3px 1px rgba(0, 0, 0, 0.15);\n",
              "      filter: drop-shadow(0px 1px 2px rgba(0, 0, 0, 0.3));\n",
              "      fill: #FFFFFF;\n",
              "    }\n",
              "  </style>\n",
              "\n",
              "      <script>\n",
              "        const buttonEl =\n",
              "          document.querySelector('#df-33c924ca-8b31-4245-b227-168ed6264692 button.colab-df-convert');\n",
              "        buttonEl.style.display =\n",
              "          google.colab.kernel.accessAllowed ? 'block' : 'none';\n",
              "\n",
              "        async function convertToInteractive(key) {\n",
              "          const element = document.querySelector('#df-33c924ca-8b31-4245-b227-168ed6264692');\n",
              "          const dataTable =\n",
              "            await google.colab.kernel.invokeFunction('convertToInteractive',\n",
              "                                                     [key], {});\n",
              "          if (!dataTable) return;\n",
              "\n",
              "          const docLinkHtml = 'Like what you see? Visit the ' +\n",
              "            '<a target=\"_blank\" href=https://colab.research.google.com/notebooks/data_table.ipynb>data table notebook</a>'\n",
              "            + ' to learn more about interactive tables.';\n",
              "          element.innerHTML = '';\n",
              "          dataTable['output_type'] = 'display_data';\n",
              "          await google.colab.output.renderOutput(dataTable, element);\n",
              "          const docLink = document.createElement('div');\n",
              "          docLink.innerHTML = docLinkHtml;\n",
              "          element.appendChild(docLink);\n",
              "        }\n",
              "      </script>\n",
              "    </div>\n",
              "  </div>\n",
              "  "
            ]
          },
          "metadata": {},
          "execution_count": 22
        }
      ],
      "source": [
        "wines = pd.read_csv('/content/winequality-red.csv', sep=\";\")\n",
        "wines.head()\n"
      ]
    },
    {
      "cell_type": "code",
      "execution_count": 28,
      "metadata": {
        "colab": {
          "base_uri": "https://localhost:8080/"
        },
        "id": "gZpmJemUPXnw",
        "outputId": "142048c0-9ff0-4be8-8750-557a287d8c3b"
      },
      "outputs": [
        {
          "output_type": "stream",
          "name": "stdout",
          "text": [
            "[[5]\n",
            " [5]\n",
            " [5]\n",
            " ...\n",
            " [6]\n",
            " [5]\n",
            " [6]]\n"
          ]
        },
        {
          "output_type": "execute_result",
          "data": {
            "text/plain": [
              "(1599, 1)"
            ]
          },
          "metadata": {},
          "execution_count": 28
        }
      ],
      "source": [
        "planeXY = wines.values\n",
        "print(planeXY)\n",
        "planeXY.shape\n",
        "\n",
        "#converted to 2d array"
      ]
    },
    {
      "cell_type": "code",
      "execution_count": 26,
      "metadata": {
        "colab": {
          "base_uri": "https://localhost:8080/"
        },
        "id": "DInkyBISPXnx",
        "outputId": "ae31ce83-6c0f-49b0-c56b-cbd8712ed3ec"
      },
      "outputs": [
        {
          "output_type": "execute_result",
          "data": {
            "text/plain": [
              "(1599, 1)"
            ]
          },
          "metadata": {},
          "execution_count": 26
        }
      ],
      "source": [
        "wines.shape"
      ]
    },
    {
      "cell_type": "code",
      "source": [
        "# slicing the matrix from XY matrix\n",
        "# X=wines['quality'].to_numpy()\n",
        "Y = wines.iloc[:,-1]\n",
        "X = wines.iloc[:, 0:11]\n",
        "Y.head()"
      ],
      "metadata": {
        "colab": {
          "base_uri": "https://localhost:8080/"
        },
        "id": "iHynGgT1QvKK",
        "outputId": "46f473f2-11d2-4539-b973-55579e0d72f7"
      },
      "execution_count": 41,
      "outputs": [
        {
          "output_type": "execute_result",
          "data": {
            "text/plain": [
              "7.4   0.70  0.00  1.9  0.076  11.0  34.0  0.9978  3.51  0.56  9.4    5\n",
              "7.8   0.88  0.00  2.6  0.098  25.0  67.0  0.9968  3.20  0.68  9.8    5\n",
              "      0.76  0.04  2.3  0.092  15.0  54.0  0.9970  3.26  0.65  9.8    5\n",
              "11.2  0.28  0.56  1.9  0.075  17.0  60.0  0.9980  3.16  0.58  9.8    6\n",
              "7.4   0.70  0.00  1.9  0.076  11.0  34.0  0.9978  3.51  0.56  9.4    5\n",
              "Name: fixed acidity;\"volatile acidity\";\"citric acid\";\"residual sugar\";\"chlorides\";\"free sulfur dioxide\";\"total sulfur dioxide\";\"density\";\"pH\";\"sulphates\";\"alcohol\";\"quality\", dtype: int64"
            ]
          },
          "metadata": {},
          "execution_count": 41
        }
      ]
    },
    {
      "cell_type": "code",
      "execution_count": 48,
      "metadata": {
        "colab": {
          "base_uri": "https://localhost:8080/"
        },
        "id": "ENvpQ52F1Oez",
        "outputId": "0d19494f-500e-4da0-8214-6ec6211068b7"
      },
      "outputs": [
        {
          "output_type": "stream",
          "name": "stdout",
          "text": [
            "Mean of the X --> fixed acidity;\"volatile acidity\";\"citric acid\";\"residual sugar\";\"chlorides\";\"free sulfur dioxide\";\"total sulfur dioxide\";\"density\";\"pH\";\"sulphates\";\"alcohol\";\"quality\"    5.636023\n",
            "dtype: float64\n",
            "Mode of Y --> ModeResult(mode=array([5]), count=array([681]))\n",
            "Standard deviation of X --> fixed acidity;\"volatile acidity\";\"citric acid\";\"residual sugar\";\"chlorides\";\"free sulfur dioxide\";\"total sulfur dioxide\";\"density\";\"pH\";\"sulphates\";\"alcohol\";\"quality\"    0.807317\n",
            "dtype: float64\n"
          ]
        }
      ],
      "source": [
        "print(\"Mean of the X -->\",np.mean(X))\n",
        "print(\"Mode of Y -->\", st.mode(Y))\n",
        "print(\"Standard deviation of X -->\", np.std(X))\n"
      ]
    },
    {
      "cell_type": "code",
      "source": [
        ""
      ],
      "metadata": {
        "id": "R0H8fClVTXmo"
      },
      "execution_count": null,
      "outputs": []
    }
  ],
  "metadata": {
    "colab": {
      "name": "AI_Lab01.ipynb",
      "provenance": []
    },
    "kernelspec": {
      "display_name": "Python 3 (ipykernel)",
      "language": "python",
      "name": "python3"
    },
    "language_info": {
      "codemirror_mode": {
        "name": "ipython",
        "version": 3
      },
      "file_extension": ".py",
      "mimetype": "text/x-python",
      "name": "python",
      "nbconvert_exporter": "python",
      "pygments_lexer": "ipython3",
      "version": "3.9.12"
    }
  },
  "nbformat": 4,
  "nbformat_minor": 0
}